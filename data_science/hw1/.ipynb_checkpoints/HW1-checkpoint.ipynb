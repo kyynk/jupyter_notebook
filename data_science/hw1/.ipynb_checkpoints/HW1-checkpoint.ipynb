{
 "cells": [
  {
   "cell_type": "markdown",
   "id": "8bce4e62",
   "metadata": {},
   "source": [
    "# Data science homework 1<br>\n",
    "資工二 110590034 楊榮鈞"
   ]
  },
  {
   "cell_type": "code",
   "execution_count": 1,
   "id": "b6703d08",
   "metadata": {},
   "outputs": [],
   "source": [
    "from typing import List\n",
    "\n",
    "import matplotlib.pyplot as plt\n",
    "import pandas as pd\n",
    "import pytest"
   ]
  },
  {
   "cell_type": "code",
   "execution_count": 2,
   "id": "72c59bbd",
   "metadata": {},
   "outputs": [],
   "source": [
    "# For $i = 1,2,...,N$ compute\n",
    "# $r_{im} = - \\displaystyle \\Bigg[\\frac{\\partial L(y_{i}, f(x_{i}))}\n",
    "# {\\partial f(x_{i})}\\Bigg]_{f=f_{m−1}}$"
   ]
  },
  {
   "cell_type": "markdown",
   "id": "8c7bdecd",
   "metadata": {},
   "source": [
    "For $i = 1,2,...,N$ compute $r_{im} = - \\displaystyle \\Bigg[\\frac{\\partial L(y_{i}, f(x_{i}))}{\\partial f(x_{i})}\\Bigg]_{f=f_{m−1}}$"
   ]
  },
  {
   "cell_type": "code",
   "execution_count": null,
   "id": "e8e28e56",
   "metadata": {},
   "outputs": [],
   "source": []
  },
  {
   "cell_type": "code",
   "execution_count": 3,
   "id": "5fe94360",
   "metadata": {},
   "outputs": [],
   "source": [
    "def factorial(n: int) -> int:\n",
    "    \"\"\"Return the factorial of n.\n",
    "    \n",
    "    Args:\n",
    "        n: This is an positive integer of factorial.\n",
    "    \n",
    "    Returns:\n",
    "        If n<0 , Raises ValueError.\n",
    "        If n==0, return 1.\n",
    "        If n>0 , return n*factorial(n-1).\n",
    "    \n",
    "    Raises:\n",
    "        ValueError: If n is negative.\n",
    "    \"\"\"\n",
    "    # please implement `factorial()` by yourself\n",
    "    # import math\n",
    "    # return math.factorial(n)\n",
    "    if n < 0:\n",
    "        raise ValueError(\"n should not be negative\")\n",
    "    elif n == 0:\n",
    "        return 1\n",
    "    else:\n",
    "        return n * factorial(n-1)\n",
    "    \n",
    "\n",
    "# make sure your factorial() can run through the following tests\n",
    "assert factorial(0) == 1\n",
    "assert factorial(1) == 1\n",
    "assert factorial(2) == 2\n",
    "assert factorial(3) == 6\n",
    "assert factorial(4) == 24\n",
    "assert factorial(5) == 120\n",
    "\n",
    "with pytest.raises(ValueError):\n",
    "    factorial(-1)"
   ]
  },
  {
   "cell_type": "code",
   "execution_count": null,
   "id": "f8dcae21",
   "metadata": {},
   "outputs": [],
   "source": []
  },
  {
   "cell_type": "code",
   "execution_count": 4,
   "id": "d5cdcc9d",
   "metadata": {},
   "outputs": [
    {
     "data": {
      "image/png": "[encoded data removed]",
      "text/plain": [
       "<Figure size 500x500 with 1 Axes>"
      ]
     },
     "metadata": {},
     "output_type": "display_data"
    }
   ],
   "source": [
    "data = [\n",
    "    14.7,\n",
    "    14.4,\n",
    "    8.2,\n",
    "    10.7,\n",
    "    14.6,\n",
    "    14.1,\n",
    "    14.4,\n",
    "    14.4,\n",
    "    18.2,\n",
    "    14.5,\n",
    "    14.5,\n",
    "    14.7,\n",
    "    14.9,\n",
    "    15.1,\n",
    "    15.9,\n",
    "    25.0,\n",
    "]\n",
    "# please write code to show the box plot here\n",
    "# ...\n",
    "fig = plt.figure(figsize = (5,5))\n",
    "\n",
    "plt.boxplot(data)\n",
    "plt.show()"
   ]
  },
  {
   "cell_type": "code",
   "execution_count": null,
   "id": "4e41984d",
   "metadata": {},
   "outputs": [],
   "source": []
  }
 ],
 "metadata": {
  "kernelspec": {
   "display_name": "Python 3 (ipykernel)",
   "language": "python",
   "name": "python3"
  },
  "language_info": {
   "codemirror_mode": {
    "name": "ipython",
    "version": 3
   },
   "file_extension": ".py",
   "mimetype": "text/x-python",
   "name": "python",
   "nbconvert_exporter": "python",
   "pygments_lexer": "ipython3",
   "version": "3.9.13"
  }
 },
 "nbformat": 4,
 "nbformat_minor": 5
}
