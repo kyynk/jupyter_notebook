{
 "cells": [
  {
   "cell_type": "markdown",
   "id": "adad3cde",
   "metadata": {},
   "source": [
    "## Data science homework 2\n",
    "資工二 110590034 楊榮鈞"
   ]
  },
  {
   "cell_type": "code",
   "execution_count": 3,
   "id": "62822779",
   "metadata": {},
   "outputs": [
    {
     "name": "stdout",
     "output_type": "stream",
     "text": [
      "2022-01-01\n",
      "20220101\n"
     ]
    }
   ],
   "source": [
    "import pandas as pd\n",
    "import numpy as np\n",
    "import matplotlib.pyplot as plt\n",
    "#在Jupyter Notebook上顯示圖表所必需的　magic command\n",
    "%matplotlib inline\n",
    "import requests\n",
    "import time\n",
    "import datetime\n",
    "data = pd.DataFrame()\n",
    "\n",
    "#設置初始日期\n",
    "first_date = datetime.date(2022,1,1)\n",
    "for i in range(0,365,1):\n",
    "    \n",
    "    # 可以使用下一行程式來看程式是否有在執行\n",
    "    print(first_date,end='\\t')\n",
    "    \n",
    "    #加datetime格式轉成string\n",
    "    date = str(first_date).replace('-','')\n",
    "    \n",
    "    #爬取程式 詳情請參考LAB2\n",
    "    url = f'https://www.twse.com.tw/exchangeReport/MI_INDEX?response=json&date={date}&type=ALLBUT0999'\n",
    "    response = requests.get(url)\n",
    "    response_json = response.json()\n",
    "    if response_json['stat']=='OK':\n",
    "        stock = pd.DataFrame(response_json['data9'], \n",
    "                     columns=response_json['fields9'])\n",
    "        stock['date'] = first_date\n",
    "        data = pd.concat([data,stock])\n",
    "        \n",
    "    # 利用 datetime格式使日期加1天  datetime格式會自動進位月分與年份 \n",
    "    first_date = first_date + datetime.timedelta(days=1)\n",
    "    \n",
    "    # *****非常重要*****\n",
    "    # *****非常重要*****\n",
    "    # *****非常重要*****\n",
    "    # 將程式延遲5秒在執行下一次迴圈\n",
    "    time.sleep(5)"
   ]
  },
  {
   "cell_type": "code",
   "execution_count": null,
   "id": "8f98ce4a",
   "metadata": {},
   "outputs": [],
   "source": []
  }
 ],
 "metadata": {
  "kernelspec": {
   "display_name": "Python 3",
   "language": "python",
   "name": "python3"
  },
  "language_info": {
   "codemirror_mode": {
    "name": "ipython",
    "version": 3
   },
   "file_extension": ".py",
   "mimetype": "text/x-python",
   "name": "python",
   "nbconvert_exporter": "python",
   "pygments_lexer": "ipython3",
   "version": "3.8.8"
  }
 },
 "nbformat": 4,
 "nbformat_minor": 5
}
