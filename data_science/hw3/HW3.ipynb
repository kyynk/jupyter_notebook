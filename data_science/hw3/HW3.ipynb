{
 "cells": [
  {
   "cell_type": "markdown",
   "id": "adad3cde",
   "metadata": {},
   "source": [
    "## Data science homework 3\n",
    "資工二 110590034 楊榮鈞"
   ]
  },
  {
   "cell_type": "code",
   "execution_count": 1,
   "id": "62822779",
   "metadata": {},
   "outputs": [
    {
     "name": "stdout",
     "output_type": "stream",
     "text": [
      "2022-01-01\t2022-01-02\t2022-01-03\t2022-01-04\t2022-01-05\t2022-01-06\t2022-01-07\t2022-01-08\t2022-01-09\t2022-01-10\t2022-01-11\t2022-01-12\t2022-01-13\t2022-01-14\t2022-01-15\t2022-01-16\t2022-01-17\t2022-01-18\t2022-01-19\t2022-01-20\t2022-01-21\t2022-01-22\t2022-01-23\t2022-01-24\t2022-01-25\t2022-01-26\t2022-01-27\t2022-01-28\t2022-01-29\t2022-01-30\t2022-01-31\t2022-02-01\t2022-02-02\t2022-02-03\t2022-02-04\t2022-02-05\t2022-02-06\t2022-02-07\t2022-02-08\t2022-02-09\t2022-02-10\t2022-02-11\t2022-02-12\t2022-02-13\t2022-02-14\t2022-02-15\t2022-02-16\t2022-02-17\t2022-02-18\t2022-02-19\t2022-02-20\t2022-02-21\t2022-02-22\t2022-02-23\t2022-02-24\t2022-02-25\t2022-02-26\t2022-02-27\t2022-02-28\t2022-03-01\t2022-03-02\t2022-03-03\t2022-03-04\t2022-03-05\t2022-03-06\t2022-03-07\t2022-03-08\t2022-03-09\t2022-03-10\t2022-03-11\t2022-03-12\t2022-03-13\t2022-03-14\t2022-03-15\t2022-03-16\t2022-03-17\t2022-03-18\t2022-03-19\t2022-03-20\t2022-03-21\t2022-03-22\t2022-03-23\t2022-03-24\t2022-03-25\t2022-03-26\t2022-03-27\t2022-03-28\t2022-03-29\t2022-03-30\t2022-03-31\t2022-04-01\t2022-04-02\t2022-04-03\t2022-04-04\t2022-04-05\t2022-04-06\t2022-04-07\t2022-04-08\t2022-04-09\t2022-04-10\t2022-04-11\t2022-04-12\t2022-04-13\t2022-04-14\t2022-04-15\t2022-04-16\t2022-04-17\t2022-04-18\t2022-04-19\t2022-04-20\t2022-04-21\t2022-04-22\t2022-04-23\t2022-04-24\t2022-04-25\t2022-04-26\t2022-04-27\t2022-04-28\t2022-04-29\t2022-04-30\t2022-05-01\t2022-05-02\t2022-05-03\t2022-05-04\t2022-05-05\t2022-05-06\t2022-05-07\t2022-05-08\t2022-05-09\t2022-05-10\t2022-05-11\t2022-05-12\t2022-05-13\t2022-05-14\t2022-05-15\t2022-05-16\t2022-05-17\t2022-05-18\t2022-05-19\t2022-05-20\t2022-05-21\t2022-05-22\t2022-05-23\t2022-05-24\t2022-05-25\t2022-05-26\t2022-05-27\t2022-05-28\t2022-05-29\t2022-05-30\t2022-05-31\t2022-06-01\t2022-06-02\t2022-06-03\t2022-06-04\t2022-06-05\t2022-06-06\t2022-06-07\t2022-06-08\t2022-06-09\t2022-06-10\t2022-06-11\t2022-06-12\t2022-06-13\t2022-06-14\t2022-06-15\t2022-06-16\t2022-06-17\t2022-06-18\t2022-06-19\t2022-06-20\t2022-06-21\t2022-06-22\t2022-06-23\t2022-06-24\t2022-06-25\t2022-06-26\t2022-06-27\t2022-06-28\t2022-06-29\t2022-06-30\t2022-07-01\t2022-07-02\t2022-07-03\t2022-07-04\t2022-07-05\t2022-07-06\t2022-07-07\t2022-07-08\t2022-07-09\t2022-07-10\t2022-07-11\t2022-07-12\t2022-07-13\t2022-07-14\t2022-07-15\t2022-07-16\t2022-07-17\t2022-07-18\t2022-07-19\t2022-07-20\t2022-07-21\t2022-07-22\t2022-07-23\t2022-07-24\t2022-07-25\t2022-07-26\t2022-07-27\t2022-07-28\t2022-07-29\t2022-07-30\t2022-07-31\t2022-08-01\t2022-08-02\t2022-08-03\t2022-08-04\t2022-08-05\t2022-08-06\t2022-08-07\t2022-08-08\t2022-08-09\t2022-08-10\t2022-08-11\t2022-08-12\t2022-08-13\t2022-08-14\t2022-08-15\t2022-08-16\t2022-08-17\t2022-08-18\t2022-08-19\t2022-08-20\t2022-08-21\t2022-08-22\t2022-08-23\t2022-08-24\t2022-08-25\t2022-08-26\t2022-08-27\t2022-08-28\t2022-08-29\t2022-08-30\t2022-08-31\t2022-09-01\t2022-09-02\t2022-09-03\t2022-09-04\t2022-09-05\t2022-09-06\t2022-09-07\t2022-09-08\t2022-09-09\t2022-09-10\t2022-09-11\t2022-09-12\t2022-09-13\t2022-09-14\t2022-09-15\t2022-09-16\t2022-09-17\t2022-09-18\t2022-09-19\t2022-09-20\t2022-09-21\t2022-09-22\t2022-09-23\t2022-09-24\t2022-09-25\t2022-09-26\t2022-09-27\t2022-09-28\t2022-09-29\t2022-09-30\t2022-10-01\t2022-10-02\t2022-10-03\t2022-10-04\t2022-10-05\t2022-10-06\t2022-10-07\t2022-10-08\t2022-10-09\t2022-10-10\t2022-10-11\t2022-10-12\t2022-10-13\t2022-10-14\t2022-10-15\t2022-10-16\t2022-10-17\t2022-10-18\t2022-10-19\t2022-10-20\t2022-10-21\t2022-10-22\t2022-10-23\t2022-10-24\t2022-10-25\t2022-10-26\t2022-10-27\t2022-10-28\t2022-10-29\t2022-10-30\t2022-10-31\t2022-11-01\t2022-11-02\t2022-11-03\t2022-11-04\t2022-11-05\t2022-11-06\t2022-11-07\t2022-11-08\t2022-11-09\t2022-11-10\t2022-11-11\t2022-11-12\t2022-11-13\t2022-11-14\t2022-11-15\t2022-11-16\t2022-11-17\t2022-11-18\t2022-11-19\t2022-11-20\t2022-11-21\t2022-11-22\t2022-11-23\t2022-11-24\t2022-11-25\t2022-11-26\t2022-11-27\t2022-11-28\t2022-11-29\t2022-11-30\t2022-12-01\t2022-12-02\t2022-12-03\t2022-12-04\t2022-12-05\t2022-12-06\t2022-12-07\t2022-12-08\t2022-12-09\t2022-12-10\t2022-12-11\t2022-12-12\t2022-12-13\t2022-12-14\t2022-12-15\t2022-12-16\t2022-12-17\t2022-12-18\t2022-12-19\t2022-12-20\t2022-12-21\t2022-12-22\t2022-12-23\t2022-12-24\t2022-12-25\t2022-12-26\t2022-12-27\t2022-12-28\t2022-12-29\t2022-12-30\t2022-12-31\t"
     ]
    }
   ],
   "source": [
    "import pandas as pd\n",
    "import numpy as np\n",
    "import matplotlib.pyplot as plt\n",
    "#在Jupyter Notebook上顯示圖表所必需的　magic command\n",
    "%matplotlib inline\n",
    "import requests\n",
    "import time\n",
    "import datetime\n",
    "data = pd.DataFrame()\n",
    "\n",
    "#設置初始日期\n",
    "first_date = datetime.date(2022,1,1)\n",
    "for i in range(0,365,1):\n",
    "    \n",
    "    # 可以使用下一行程式來看程式是否有在執行\n",
    "    print(first_date,end='\\t')\n",
    "    \n",
    "    #加datetime格式轉成string\n",
    "    date = str(first_date).replace('-','')\n",
    "    \n",
    "    #爬取程式 詳情請參考LAB2\n",
    "    url = f'https://www.twse.com.tw/exchangeReport/MI_INDEX?response=json&date={date}&type=ALLBUT0999'\n",
    "    response = requests.get(url)\n",
    "    response_json = response.json()\n",
    "    if response_json['stat']=='OK':\n",
    "        stock = pd.DataFrame(response_json['data9'], \n",
    "                     columns=response_json['fields9'])\n",
    "        stock['date'] = first_date\n",
    "        data = pd.concat([data,stock])\n",
    "        \n",
    "    # 利用 datetime格式使日期加1天  datetime格式會自動進位月分與年份 \n",
    "    first_date = first_date + datetime.timedelta(days=1)\n",
    "    \n",
    "    # *****非常重要*****\n",
    "    # *****非常重要*****\n",
    "    # *****非常重要*****\n",
    "    # 將程式延遲5秒在執行下一次迴圈\n",
    "    time.sleep(5)"
   ]
  },
  {
   "cell_type": "code",
   "execution_count": 2,
   "id": "e24dcb7e",
   "metadata": {},
   "outputs": [],
   "source": [
    "#請爬取完後進行輸出保存，以免未來需要從重新使用原始資料\n",
    "data.to_csv('data_science_hw3.csv')"
   ]
  },
  {
   "cell_type": "code",
   "execution_count": 3,
   "id": "2673c3f1",
   "metadata": {},
   "outputs": [
    {
     "data": {
      "text/plain": [
       "'D:\\\\jupyter\\\\data_science\\\\hw3'"
      ]
     },
     "execution_count": 3,
     "metadata": {},
     "output_type": "execute_result"
    }
   ],
   "source": [
    "pwd"
   ]
  },
  {
   "cell_type": "code",
   "execution_count": 4,
   "id": "316701eb",
   "metadata": {},
   "outputs": [
    {
     "data": {
      "text/html": [
       "<div>\n",
       "<style scoped>\n",
       "    .dataframe tbody tr th:only-of-type {\n",
       "        vertical-align: middle;\n",
       "    }\n",
       "\n",
       "    .dataframe tbody tr th {\n",
       "        vertical-align: top;\n",
       "    }\n",
       "\n",
       "    .dataframe thead th {\n",
       "        text-align: right;\n",
       "    }\n",
       "</style>\n",
       "<table border=\"1\" class=\"dataframe\">\n",
       "  <thead>\n",
       "    <tr style=\"text-align: right;\">\n",
       "      <th></th>\n",
       "      <th>date</th>\n",
       "      <th>opening_price</th>\n",
       "      <th>closing_price</th>\n",
       "    </tr>\n",
       "  </thead>\n",
       "  <tbody>\n",
       "    <tr>\n",
       "      <th>438</th>\n",
       "      <td>2022-01-03</td>\n",
       "      <td>619.0</td>\n",
       "      <td>631.0</td>\n",
       "    </tr>\n",
       "    <tr>\n",
       "      <th>438</th>\n",
       "      <td>2022-01-04</td>\n",
       "      <td>645.0</td>\n",
       "      <td>656.0</td>\n",
       "    </tr>\n",
       "    <tr>\n",
       "      <th>438</th>\n",
       "      <td>2022-01-05</td>\n",
       "      <td>669.0</td>\n",
       "      <td>650.0</td>\n",
       "    </tr>\n",
       "    <tr>\n",
       "      <th>438</th>\n",
       "      <td>2022-01-06</td>\n",
       "      <td>638.0</td>\n",
       "      <td>644.0</td>\n",
       "    </tr>\n",
       "    <tr>\n",
       "      <th>438</th>\n",
       "      <td>2022-01-07</td>\n",
       "      <td>643.0</td>\n",
       "      <td>634.0</td>\n",
       "    </tr>\n",
       "    <tr>\n",
       "      <th>...</th>\n",
       "      <td>...</td>\n",
       "      <td>...</td>\n",
       "      <td>...</td>\n",
       "    </tr>\n",
       "    <tr>\n",
       "      <th>453</th>\n",
       "      <td>2022-12-26</td>\n",
       "      <td>454.0</td>\n",
       "      <td>456.5</td>\n",
       "    </tr>\n",
       "    <tr>\n",
       "      <th>453</th>\n",
       "      <td>2022-12-27</td>\n",
       "      <td>458.0</td>\n",
       "      <td>457.0</td>\n",
       "    </tr>\n",
       "    <tr>\n",
       "      <th>453</th>\n",
       "      <td>2022-12-28</td>\n",
       "      <td>451.0</td>\n",
       "      <td>451.0</td>\n",
       "    </tr>\n",
       "    <tr>\n",
       "      <th>453</th>\n",
       "      <td>2022-12-29</td>\n",
       "      <td>444.0</td>\n",
       "      <td>446.0</td>\n",
       "    </tr>\n",
       "    <tr>\n",
       "      <th>453</th>\n",
       "      <td>2022-12-30</td>\n",
       "      <td>455.0</td>\n",
       "      <td>448.5</td>\n",
       "    </tr>\n",
       "  </tbody>\n",
       "</table>\n",
       "<p>246 rows × 3 columns</p>\n",
       "</div>"
      ],
      "text/plain": [
       "           date  opening_price  closing_price\n",
       "438  2022-01-03          619.0          631.0\n",
       "438  2022-01-04          645.0          656.0\n",
       "438  2022-01-05          669.0          650.0\n",
       "438  2022-01-06          638.0          644.0\n",
       "438  2022-01-07          643.0          634.0\n",
       "..          ...            ...            ...\n",
       "453  2022-12-26          454.0          456.5\n",
       "453  2022-12-27          458.0          457.0\n",
       "453  2022-12-28          451.0          451.0\n",
       "453  2022-12-29          444.0          446.0\n",
       "453  2022-12-30          455.0          448.5\n",
       "\n",
       "[246 rows x 3 columns]"
      ]
     },
     "metadata": {},
     "output_type": "display_data"
    }
   ],
   "source": [
    "#請用絕對位置，相對路徑會導向安裝anaconda的地方\n",
    "data = pd.read_csv('D:\\\\jupyter\\\\data_science\\\\hw3\\\\data_science_hw3.csv',index_col=0)\n",
    "#只取出想要的columns\n",
    "data = data[['date','證券名稱','開盤價','收盤價']]\n",
    "#把收盤價改為英文標題，未來處理其他程序時才不會有警告圖示\n",
    "data = data.rename(columns = {'證券名稱':'name'})\n",
    "data = data.rename(columns = {'開盤價':'opening_price'})\n",
    "data = data.rename(columns = {'收盤價':'closing_price'})\n",
    "data['opening_price'] = data['opening_price'].replace({'\\$': '', ',': '', '--':np.nan}, regex=True)\n",
    "data['opening_price'] = data['opening_price'].astype('float64')\n",
    "data['closing_price'] = data['closing_price'].replace({'\\$': '', ',': '', '--':np.nan}, regex=True)\n",
    "data['closing_price'] = data['closing_price'].astype('float64')\n",
    "data_TSMC = data[data['name']=='台積電']\n",
    "data_TSMC = data_TSMC.drop('name',axis = 1)\n",
    "display(data_TSMC)"
   ]
  },
  {
   "cell_type": "code",
   "execution_count": 5,
   "id": "6d7f030d",
   "metadata": {},
   "outputs": [
    {
     "data": {
      "text/html": [
       "<div>\n",
       "<style scoped>\n",
       "    .dataframe tbody tr th:only-of-type {\n",
       "        vertical-align: middle;\n",
       "    }\n",
       "\n",
       "    .dataframe tbody tr th {\n",
       "        vertical-align: top;\n",
       "    }\n",
       "\n",
       "    .dataframe thead th {\n",
       "        text-align: right;\n",
       "    }\n",
       "</style>\n",
       "<table border=\"1\" class=\"dataframe\">\n",
       "  <thead>\n",
       "    <tr style=\"text-align: right;\">\n",
       "      <th></th>\n",
       "      <th>date</th>\n",
       "      <th>opening_price</th>\n",
       "      <th>closing_price</th>\n",
       "    </tr>\n",
       "  </thead>\n",
       "  <tbody>\n",
       "    <tr>\n",
       "      <th>438</th>\n",
       "      <td>2022-01-03</td>\n",
       "      <td>619.0</td>\n",
       "      <td>631.0</td>\n",
       "    </tr>\n",
       "    <tr>\n",
       "      <th>438</th>\n",
       "      <td>2022-01-04</td>\n",
       "      <td>645.0</td>\n",
       "      <td>656.0</td>\n",
       "    </tr>\n",
       "    <tr>\n",
       "      <th>438</th>\n",
       "      <td>2022-01-05</td>\n",
       "      <td>669.0</td>\n",
       "      <td>650.0</td>\n",
       "    </tr>\n",
       "    <tr>\n",
       "      <th>438</th>\n",
       "      <td>2022-01-06</td>\n",
       "      <td>638.0</td>\n",
       "      <td>644.0</td>\n",
       "    </tr>\n",
       "    <tr>\n",
       "      <th>438</th>\n",
       "      <td>2022-01-07</td>\n",
       "      <td>643.0</td>\n",
       "      <td>634.0</td>\n",
       "    </tr>\n",
       "    <tr>\n",
       "      <th>...</th>\n",
       "      <td>...</td>\n",
       "      <td>...</td>\n",
       "      <td>...</td>\n",
       "    </tr>\n",
       "    <tr>\n",
       "      <th>453</th>\n",
       "      <td>2022-12-26</td>\n",
       "      <td>454.0</td>\n",
       "      <td>456.5</td>\n",
       "    </tr>\n",
       "    <tr>\n",
       "      <th>453</th>\n",
       "      <td>2022-12-27</td>\n",
       "      <td>458.0</td>\n",
       "      <td>457.0</td>\n",
       "    </tr>\n",
       "    <tr>\n",
       "      <th>453</th>\n",
       "      <td>2022-12-28</td>\n",
       "      <td>451.0</td>\n",
       "      <td>451.0</td>\n",
       "    </tr>\n",
       "    <tr>\n",
       "      <th>453</th>\n",
       "      <td>2022-12-29</td>\n",
       "      <td>444.0</td>\n",
       "      <td>446.0</td>\n",
       "    </tr>\n",
       "    <tr>\n",
       "      <th>453</th>\n",
       "      <td>2022-12-30</td>\n",
       "      <td>455.0</td>\n",
       "      <td>448.5</td>\n",
       "    </tr>\n",
       "  </tbody>\n",
       "</table>\n",
       "<p>246 rows × 3 columns</p>\n",
       "</div>"
      ],
      "text/plain": [
       "           date  opening_price  closing_price\n",
       "438  2022-01-03          619.0          631.0\n",
       "438  2022-01-04          645.0          656.0\n",
       "438  2022-01-05          669.0          650.0\n",
       "438  2022-01-06          638.0          644.0\n",
       "438  2022-01-07          643.0          634.0\n",
       "..          ...            ...            ...\n",
       "453  2022-12-26          454.0          456.5\n",
       "453  2022-12-27          458.0          457.0\n",
       "453  2022-12-28          451.0          451.0\n",
       "453  2022-12-29          444.0          446.0\n",
       "453  2022-12-30          455.0          448.5\n",
       "\n",
       "[246 rows x 3 columns]"
      ]
     },
     "metadata": {},
     "output_type": "display_data"
    }
   ],
   "source": [
    "data_TSMC = data_TSMC.dropna() #drop row if row has NaN\n",
    "display(data_TSMC)"
   ]
  },
  {
   "cell_type": "code",
   "execution_count": 6,
   "id": "1210111b",
   "metadata": {},
   "outputs": [
    {
     "data": {
      "text/plain": [
       "<AxesSubplot:xlabel='date'>"
      ]
     },
     "execution_count": 6,
     "metadata": {},
     "output_type": "execute_result"
    },
    {
     "data": {
      "image/png": "[encoded data removed]",
      "text/plain": [
       "<Figure size 432x288 with 1 Axes>"
      ]
     },
     "metadata": {
      "needs_background": "light"
     },
     "output_type": "display_data"
    }
   ],
   "source": [
    "#df內的資料型態必須一樣，所以使日期當作是index也就是橫坐標\n",
    "data_TSMC = data_TSMC.set_index('date')\n",
    "#如果按一次沒顯示，那就再按一次。\n",
    "data_TSMC.plot()"
   ]
  },
  {
   "cell_type": "code",
   "execution_count": null,
   "id": "ac969c1a",
   "metadata": {},
   "outputs": [],
   "source": []
  }
 ],
 "metadata": {
  "kernelspec": {
   "display_name": "Python 3",
   "language": "python",
   "name": "python3"
  },
  "language_info": {
   "codemirror_mode": {
    "name": "ipython",
    "version": 3
   },
   "file_extension": ".py",
   "mimetype": "text/x-python",
   "name": "python",
   "nbconvert_exporter": "python",
   "pygments_lexer": "ipython3",
   "version": "3.8.8"
  }
 },
 "nbformat": 4,
 "nbformat_minor": 5
}
