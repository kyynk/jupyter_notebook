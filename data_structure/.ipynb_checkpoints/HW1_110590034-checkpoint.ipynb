{
 "cells": [
  {
   "cell_type": "markdown",
   "metadata": {},
   "source": [
    "## Homework 1 - Python Practice (Data Structures, Fall 2022)\n",
    "\n",
    "### Name:楊榮鈞\n",
    "### Student ID Number:110590034\n",
    "\n",
    "### Problem 1\n",
    "Consider the following code. Suppose that you are given a list $A$ of integers, say $A = [2, 44, 25, 75, 33, 56, 85, 16, 98, 64]$. To complete the script, please write **one line** of Python that takes $A$ and makes a new list having only the even integers of list $A$ in it.\n",
    "\n"
   ]
  },
  {
   "cell_type": "code",
   "execution_count": 1,
   "metadata": {},
   "outputs": [
    {
     "name": "stdout",
     "output_type": "stream",
     "text": [
      "[4, 16, 36, 64, 100]\n"
     ]
    }
   ],
   "source": [
    "A = [1, 4, 9, 16, 25, 36, 49, 64, 81, 100]\n",
    "\n",
    "# please provide one line of Python that takes 𝐴 and makes a new list having only the even intergers of list 𝐴.\n",
    "B = [i for i in A if i%2 == 0]\n",
    "\n",
    "print(B)"
   ]
  },
  {
   "cell_type": "markdown",
   "metadata": {},
   "source": [
    "### Problem 2\n",
    "\n",
    "Suppose that there are two lists $A$ and $B$ (may not be sorted) of different sizes and we would like to list the elements that are in both lists. Note that there will be no duplicated elements in the resulting list. For example, two given lists $A$ and $B$ are as below:  \n",
    "$A$ = [23, 27, 7, 28, 15, 22, 21, 25, 19, 10, 11, 26, 27]  \n",
    "$B$ = [29, 26, 6, 16, 10, 1, 7, 18, 28, 3, 24, 27, 14, 12, 4, 21].  \n",
    "The resulting list will be  \n",
    "[27, 7, 28, 21, 10, 26].  \n",
    "\n",
    "In this exercise, you need to first generate two lists $A$ and $B$ randomly with different sizes. One can use [Python random documentation](https://docs.python.org/3.0/library/random.html) to figure out how to generate a random list. Below shows a line of code that produces a list of 20 random numbers within 0 to 99.  \n",
    "    `A = [random.randint(1, 100) for i in range(20)]`  \n",
    "Then, write as few lines as possible to generate a list that contains only the elements in both generated lists without duplicates."
   ]
  },
  {
   "cell_type": "code",
   "execution_count": 12,
   "metadata": {},
   "outputs": [
    {
     "name": "stdout",
     "output_type": "stream",
     "text": [
      "The generated two lists A and B:\n",
      "A= [1, 49, 43, 32, 76, 32, 13, 41, 78, 44, 18, 29, 66]\n",
      "B= [95, 83, 29, 79, 69, 73, 81, 39, 36, 53, 11, 5, 57, 76, 59, 33]\n",
      "Overlaps with duplicates: [76, 29]\n",
      "Resulting list: [76, 29]\n"
     ]
    }
   ],
   "source": [
    "import random\n",
    "\n",
    "# generate two lists A and B randomly\n",
    "A = [random.randint(1, 100) for i in range(13)]\n",
    "B = [random.randint(1, 100) for i in range(16)]\n",
    "# generate a list that contains only the elements in both generated lists without duplicates\n",
    "# using as few lines as possible \n",
    "common = [data for data in A if (data in B)]\n",
    "result = [] if common == [] else list(set(common))\n",
    "result.sort(key = common.index)\n",
    "print('The generated two lists A and B:')\n",
    "print('A=', A)\n",
    "print('B=', B)\n",
    "print('Overlaps with duplicates:', common)\n",
    "print('Resulting list:', result)\n"
   ]
  },
  {
   "cell_type": "markdown",
   "metadata": {},
   "source": [
    "### Problem 3\n",
    "\n",
    "Suppose that we have a number, say 965242, and we can have a set of numbers by shuffling the digits of the given number. We now would like to find the **maximum shuffling difference** among all the numbers in that set. In other words, we want to have the difference between the maximum and minimum numbers in that set. Some examples are as below.\n",
    "1. 621951 will have the *maximum shuffling difference* 852642 because 965211 - 112569 = 852642\n",
    "2. 185338 will have the *maximum shuffling difference* 751743 because 885331 - 133588 = 751743\n",
    "3. 689015954 will have the *maximum shuffling difference* 760833 because 998655410 - 014556899 = 984098511\n",
    "\n",
    "Please write a program that first generates a number randomly with at most 13 digits and then computes the maximum shuffling difference of that generated number. The output is like following:  \n",
    "    `The given number 689015954  has the maximum shuffling difference 984098511 (= 998655410 - 014556899 ).`"
   ]
  },
  {
   "cell_type": "code",
   "execution_count": 1,
   "metadata": {},
   "outputs": [
    {
     "name": "stdout",
     "output_type": "stream",
     "text": [
      "The given number 868240150  has the maximum shuffling difference 885296412 (= 886542100 - 001245688 ).\n"
     ]
    }
   ],
   "source": [
    "import random\n",
    "\n",
    "# generate a number randomly with at most 13 digits \n",
    "num = [str(random.randint(0,9)) for i in range(random.randint(1,13))]\n",
    "if len(num)>1 and num[0] == '0':num.pop(0)\n",
    "given_number = \"\".join(num)\n",
    "# compute the maximum shuffling difference\n",
    "num.sort(reverse=True)  #ex:1234952 -> 9543221\n",
    "M = \"\".join(num)\n",
    "num.sort()              #ex:1234952 -> 1223459\n",
    "m = \"\".join(num)\n",
    "difference = int(M) - int(m)\n",
    "print(\"The given number\", given_number, \" has the maximum shuffling difference\",\n",
    "      difference, \"(=\", M, \"-\", m, \").\")"
   ]
  },
  {
   "cell_type": "markdown",
   "metadata": {},
   "source": [
    "### Problem 4\n",
    "Write a Python class named `Rectangle` constructed by a length and width and a method, `area()`, which will compute the area of a rectangle."
   ]
  },
  {
   "cell_type": "code",
   "execution_count": 13,
   "metadata": {},
   "outputs": [
    {
     "name": "stdout",
     "output_type": "stream",
     "text": [
      "Please give the length of the rectangle:15\n",
      "Please give the width of the rectangle:5\n",
      "the area of the input rectang is 75\n"
     ]
    }
   ],
   "source": [
    "#\n",
    "# Write a Python class named Rectangle constructed by a length and width \n",
    "# in addition, it has a method, area(), to compute the area of a rectangle.\n",
    "\n",
    "class Rectangle():\n",
    "    def __init__(self,length,width):\n",
    "        self.length = length\n",
    "        self.width = width\n",
    "    def area(self):\n",
    "        return self.length * self.width\n",
    "\n",
    "length = int(input(\"Please give the length of the rectangle:\"))\n",
    "width = int(input(\"Please give the width of the rectangle:\"))\n",
    "newRectangle = Rectangle(length, width)\n",
    "print('the area of the input rectang is', newRectangle.area())"
   ]
  },
  {
   "cell_type": "markdown",
   "metadata": {},
   "source": [
    "### Problem 5\n",
    "\n",
    "Create a Python program that will play the \"A and B\" game with a user. The game works like this:  \n",
    "One randomly generates a 4-digit number and asks the user to guess this 4-digit number. For every digit that the user guesses correctly in the correct place, the user gets an “A”.  For every digit the user guesses correctly in the wrong place, the user gets a “B”. Every time the user makes a guess, tell them how many “As” and “Bs” the user gets. The process continues until the user guesses the correct 4-digit number and the game is over. During the process, keep track of the number of guesses the user makes throughout the game and tell the user at the end.  \n",
    "\n",
    "Here is an example and suppose that the number generated by the computer is 6581. The interaction may be as below:\n",
    "\n",
    "    Welcome to the A and B Game and a 4-digit number is generated.  \n",
    "    Please guess a number: \n",
    "    >>> 6284\n",
    "    2 A, 0 B\n",
    "    >>> 2451\n",
    "    1 A, 1 B\n",
    "    ...\n",
    "Until the user guesses the correct number or enter `exit` to quit the game."
   ]
  },
  {
   "cell_type": "code",
   "execution_count": null,
   "metadata": {},
   "outputs": [
    {
     "name": "stdout",
     "output_type": "stream",
     "text": [
      "Welcome to the A and B Game and a 4-digit number is generated.\n",
      "Please guess a number:\n",
      "1234\n",
      "0 A, 1 B\n",
      "5687\n",
      "0 A, 3 B\n",
      "0100\n",
      "0 A, 0 B\n",
      "0300\n",
      "1 A, 0 B\n",
      "0567\n",
      "0 A, 3 B\n",
      "5376\n",
      "3 A, 1 B\n",
      "5370\n",
      "2 A, 0 B\n",
      "5306\n",
      "2 A, 1 B\n",
      "5356\n",
      "2 A, 1 B\n",
      "5365\n",
      "1 A, 2 B\n",
      "5355\n",
      "1 A, 0 B\n"
     ]
    }
   ],
   "source": [
    "import random\n",
    "\n",
    "number = [random.randint(0,9) for i in range(4)]#print(number)\n",
    "print(\"Welcome to the A and B Game and a 4-digit number is generated.\\nPlease guess a number:\")\n",
    "while(True):\n",
    "    guess = str(input())#\"Please guess a number:\"#print(guess)\n",
    "    if(guess == \"exit\"):\n",
    "        print(\"the correct number is\",\"\".join([str(i) for i in number]))\n",
    "        break\n",
    "    guess_num = [int(i) for i in guess]#print(guess_num)\n",
    "    A = B = 0\n",
    "    for i in range(4):\n",
    "        if number[i] == guess_num[i]:   #correct number and position\n",
    "            A+=1\n",
    "        elif number[i] in guess_num:    #have number but wrong position\n",
    "            B+=1\n",
    "    print(A,\"A,\",B,\"B\")\n",
    "    if A == 4:\n",
    "        print(\"correct\")                #guess correct\n",
    "        break"
   ]
  },
  {
   "cell_type": "code",
   "execution_count": null,
   "metadata": {},
   "outputs": [],
   "source": []
  }
 ],
 "metadata": {
  "kernelspec": {
   "display_name": "Python 3",
   "language": "python",
   "name": "python3"
  },
  "language_info": {
   "codemirror_mode": {
    "name": "ipython",
    "version": 3
   },
   "file_extension": ".py",
   "mimetype": "text/x-python",
   "name": "python",
   "nbconvert_exporter": "python",
   "pygments_lexer": "ipython3",
   "version": "3.8.8"
  }
 },
 "nbformat": 4,
 "nbformat_minor": 2
}
