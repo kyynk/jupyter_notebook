{
 "cells": [
  {
   "cell_type": "markdown",
   "metadata": {},
   "source": [
    "## Programming part of Homework 2 (Data Structures, Fall 2022)\n",
    "\n",
    "## Name:楊榮鈞\n",
    "## Student ID Number:110590034\n",
    "\n",
    "### Programming problem 1\n",
    "Consider the problem of generating the series $S$ of numbers in Problem 3. Please use Python to implement the pseudo-code you provide for solving the problem. You should provide the iterative and recursive functions named with `S_iterative()` and `S_recursive()` respectively. Then, perform a comparison on these two versions by measuring the execution time. Besides, we also consider the number of recursive calls made in the recursive approaches. Hence, you need to\n",
    "1. implement the iterative approach as a function named as `S\\_iterative()`,\n",
    "2. provide the recursive version for the approach named as `S\\_recursive()`, and\n",
    "3. compare these two function with the same input in terms of running time and write what you have observed.\n",
    "\n",
    "We will use an in-built python library `timeit` and the module function `timeit.timeit()` for measuring the running time respective. In you observation, please indicate the ways to measure the time and this will be provided in the template.\n",
    "\n",
    "**Note:** For the programming problems, please do some experiments by yourself to observe the running time and the number of recursive calls. You need to report what you have observed from the experiments when you submit your homework."
   ]
  },
  {
   "cell_type": "code",
   "execution_count": 1,
   "metadata": {},
   "outputs": [
    {
     "name": "stdout",
     "output_type": "stream",
     "text": [
      "S_iterative:\n",
      "S_ 10 : 520\n"
     ]
    }
   ],
   "source": [
    "# the iterative approach\n",
    "def S_iterative(n):\n",
    "\n",
    "\n",
    "n=10\n",
    "print (\"S_iterative:\")\n",
    "print (\"S_\", n , \":\", S_iterative(n))"
   ]
  },
  {
   "cell_type": "code",
   "execution_count": 2,
   "metadata": {},
   "outputs": [
    {
     "name": "stdout",
     "output_type": "stream",
     "text": [
      "S_recursive:\n",
      "S_ 10 : 520 ; recursive calls:  109\n"
     ]
    }
   ],
   "source": [
    "# the recursive version\n",
    "def S_recursive(n):\n",
    "\n",
    "\n",
    "n=10\n",
    "total=0\n",
    "print (\"S_recursive:\")\n",
    "print (\"S_\", n , \":\", S_recursive(n) , \"; recursive calls: \" , total ,) "
   ]
  },
  {
   "cell_type": "code",
   "execution_count": 3,
   "metadata": {},
   "outputs": [
    {
     "name": "stdout",
     "output_type": "stream",
     "text": [
      "Running time comparison (Timer Method 1):\n",
      "Iterative on 10 = 520 ; Recursive on 10 = 520\n",
      "iterative approach: 0.03165690000000154\n",
      "Recursive approach: 0.2878708000000003\n",
      "Running time comparison (Timer Method 2):\n",
      "Iterative on 10 = 520 ; Recursive on 10 = 520\n",
      "iterative approach: 0.032541999999999405\n",
      "Recursive approach: 0.3432421000000012\n"
     ]
    }
   ],
   "source": [
    "#---------------------------------------------------------timeit\n",
    "import timeit as ti\n",
    "n=10\n",
    "#---------------------------------------------------------Method 1\n",
    "print(\"Running time comparison (Timer Method 1):\")\n",
    "\n",
    "tstart = ti.default_timer() #timer start 計時器開啟\n",
    "for i in range(10000):\n",
    "    S_iterative(n)\n",
    "tend = ti.default_timer() #timer end計時器關閉\n",
    "t_ite=tend - tstart#開始與結束的差值\n",
    "\n",
    "tstart = ti.default_timer() #timer start 計時器開啟\n",
    "for i in range(10000):\n",
    "    S_recursive(n)\n",
    "tend = ti.default_timer() #timer end計時器關閉\n",
    "t_rec=tend - tstart#開始與結束的差值\n",
    "\n",
    "print(\"Iterative on\", n, \"=\", S_iterative(n), \"; Recursive on\", n, \"=\", S_recursive(n))\n",
    "print(\"iterative approach:\", t_ite)\n",
    "print(\"Recursive approach:\", t_rec)\n",
    "\n",
    "#---------------------------------------------------------Method 2\n",
    "print(\"Running time comparison (Timer Method 2):\")\n",
    "\n",
    "def iterative_test():\n",
    "    S_iterative(n)\n",
    "    \n",
    "def recursive_test():\n",
    "    S_recursive(n)\n",
    "    \n",
    "t_ite = ti.timeit(\"iterative_test()\", setup=\"from __main__ import iterative_test\", number = 10000)#timeit(函數名稱,執行次數)\n",
    "t_rec = ti.timeit(\"recursive_test()\", setup=\"from __main__ import recursive_test\", number = 10000)\n",
    "\n",
    "print(\"Iterative on\", n, \"=\", S_iterative(n), \"; Recursive on\", n, \"=\", S_recursive(n))\n",
    "print(\"iterative approach:\", t_ite)\n",
    "print(\"Recursive approach:\", t_rec)\n"
   ]
  },
  {
   "cell_type": "markdown",
   "metadata": {},
   "source": [
    "#### Please write down the observations you have after the comparisons:\n",
    "##### Inputs for five experiments\n",
    "1.<br>\n",
    "2.<br>\n",
    "3.<br>\n",
    "4.<br>\n",
    "5.<br>\n",
    "##### Results of comparisoms\n",
    "*******************************************************************************************************\n",
    "**Method 1**\n",
    "\n",
    "| time          | time for exp1  | time for exp2  | time for exp3  | time for exp4  | time for exp5  | \n",
    "| -----------   | -------------- | -------------- | -------------- | -------------- | -------------- |\n",
    "|Iteration      |                |                |                |                |                |\n",
    "|Recursion      |                |                |                |                |                |\n",
    "\n",
    "**Method 2**\n",
    "\n",
    "| time          | time for exp1  | time for exp2  | time for exp3  | time for exp4  | time for exp5  | \n",
    "| -----------   | -------------- | -------------- | -------------- | -------------- | -------------- |\n",
    "|Iteration      |                |                |                |                |                |\n",
    "|Recursion      |                |                |                |                |                |\n",
    "\n",
    "*******************************************************************************************************\n",
    "\n",
    "##### Observations\n"
   ]
  },
  {
   "cell_type": "markdown",
   "metadata": {},
   "source": [
    "### Programming problem 2\n",
    "A ***permutation*** $P$ of size $n$ is a way of arranging the numbers between 1 and $n$, where each number must be used and can only be used once. For example, 5 4 1 2 3 is a permutation of 1 2 3 4 5 where $P(5)=1$, $P(4)=2$, $P(1)=3$, $P(2)=4$, and $P(3)=5$. An ***inversion*** in a permutation $P$ is a pair of numbers $i \\mbox{ and} j \\in\\{1, \\ldots, n\\}$ with $i<j$ such that the larger number appears to the left of the smaller one in the permutation, that is $P(j)<P(i)$. In the example, the pair of (3, 5) is an inversion in $P$. The ***inversion number*** of a permutation is the total number of inversions. Please write the Python fuctions mentioned in Problem 4 and compare the performance in term of running time. The things to be provided are as below.\n",
    "1. Implement the iterative approach using Python and name the function as `inversion_number_iterative()`.\n",
    "2. Please implement the linear recursive version you provide in Problem 4(c) with the function name of `inversion\\_number\\_recursive()`.\n",
    "3. Write the binary recursive version you provide in Problem 4(d) with the function named as `inversion\\_number\\_tworecurs()`.\n",
    "4. Compare these functions with the same input in terms of running time and write what you have observed."
   ]
  },
  {
   "cell_type": "code",
   "execution_count": 4,
   "metadata": {},
   "outputs": [
    {
     "name": "stdout",
     "output_type": "stream",
     "text": [
      "The inversion number of  [35, 11, 26, 13, 64, 21, 44, 6, 100, 57, 77, 82] is 19\n"
     ]
    }
   ],
   "source": [
    "# the iterative approach\n",
    "def inversion_number_iterative(P):\n",
    "\n",
    "\n",
    "#perm=[4, 6, 2, 5, 1, 3]\n",
    "#perm = [12, 11, 13, 5, 6, 7]\n",
    "perm=[35, 11, 26, 13, 64, 21, 44, 6, 100, 57, 77, 82]\n",
    "print('The inversion number of ', perm, 'is', inversion_number_iterative(perm))"
   ]
  },
  {
   "cell_type": "code",
   "execution_count": 5,
   "metadata": {},
   "outputs": [
    {
     "name": "stdout",
     "output_type": "stream",
     "text": [
      "The inversion number of  [35, 11, 26, 13, 64, 21, 44, 6, 100, 57, 77, 82] is 19\n"
     ]
    }
   ],
   "source": [
    "# the linear recursive version\n",
    "def inversion_number_recursive(P):\n",
    "\n",
    "\n",
    "#perm=[4, 6, 2, 5, 1, 3]\n",
    "#perm = [12, 11, 13, 5, 6, 7]\n",
    "perm=[35, 11, 26, 13, 64, 21, 44, 6, 100, 57, 77, 82]\n",
    "print('The inversion number of ', perm, 'is', inversion_number_recursive(perm))"
   ]
  },
  {
   "cell_type": "code",
   "execution_count": 6,
   "metadata": {},
   "outputs": [
    {
     "name": "stdout",
     "output_type": "stream",
     "text": [
      "The inversion number of  [35, 11, 26, 13, 64, 21, 44, 6, 100, 57, 77, 82] is 19\n"
     ]
    }
   ],
   "source": [
    "# the binary recursive version\n",
    "def inversion_number_tworecurs(P):\n",
    "\n",
    "\n",
    "#perm=[4, 6, 2, 5, 1, 3]\n",
    "#perm = [12, 11, 13, 5, 6, 7]\n",
    "perm=[35, 11, 26, 13, 64, 21, 44, 6, 100, 57, 77, 82]\n",
    "print('The inversion number of ', perm, 'is', inversion_number_tworecurs(perm))"
   ]
  },
  {
   "cell_type": "code",
   "execution_count": 7,
   "metadata": {
    "scrolled": false
   },
   "outputs": [
    {
     "name": "stdout",
     "output_type": "stream",
     "text": [
      "Running time comparison (Timer Method 1):\n",
      "Permutation: [35, 11, 26, 13, 64, 21, 44, 6, 100, 57, 77, 82]\n",
      "The inversion number of is 19 (iterat)\n",
      "The inversion number of is 19 (linear)\n",
      "The inversion number of is 19 (binary)\n",
      "Iterative approach: 0.0713134000000002\n",
      "Recursive approach: 0.09004210000000001\n",
      "Binrecurs approach: 0.174385\n",
      "Running time comparison (Timer Method 2):\n",
      "Iterative approach: 0.07094770000000006\n",
      "Recursive approach: 0.08859680000000014\n",
      "Binrecurs approach: 0.17697819999999997\n"
     ]
    }
   ],
   "source": [
    "#---------------------------------------------------------timeit\n",
    "#import timeit as ti\n",
    "\n",
    "#perm = [12, 11, 13, 5, 6, 7]\n",
    "perm=[35, 11, 26, 13, 64, 21, 44, 6, 100, 57, 77, 82]\n",
    "\n",
    "#---------------------------------------------------------Method 1\n",
    "print(\"Running time comparison (Timer Method 1):\")\n",
    "\n",
    "tstart = ti.default_timer() #timer start 計時器開啟\n",
    "\n",
    "for i in range(10000):\n",
    "    inversion_number_iterative(perm)\n",
    "tend = ti.default_timer() #timer end計時器關閉\n",
    "t_ite=tend - tstart#開始與結束的差值\n",
    "\n",
    "tstart = ti.default_timer() #timer start 計時器開啟\n",
    "for i in range(10000):\n",
    "    inversion_number_recursive(perm)\n",
    "tend = ti.default_timer() #timer end計時器關閉\n",
    "t_rec=tend - tstart#開始與結束的差值\n",
    "\n",
    "tstart = ti.default_timer() #timer start 計時器開啟\n",
    "for i in range(10000):\n",
    "    inversion_number_tworecurs(perm)\n",
    "tend = ti.default_timer() #timer end計時器關閉\n",
    "t_twr=tend - tstart#開始與結束的差值\n",
    "\n",
    "print(\"Permutation:\", perm)\n",
    "print('The inversion number of is', inversion_number_iterative(perm),'(iterat)')\n",
    "print('The inversion number of is', inversion_number_recursive(perm),'(linear)')\n",
    "print('The inversion number of is', inversion_number_tworecurs(perm),'(binary)')\n",
    "\n",
    "print(\"Iterative approach:\", t_ite)\n",
    "print(\"Recursive approach:\", t_rec)\n",
    "print(\"Binrecurs approach:\", t_twr)\n",
    "\n",
    "#---------------------------------------------------------Method 2\n",
    "print(\"Running time comparison (Timer Method 2):\")\n",
    "\n",
    "def iterative_test():\n",
    "    inversion_number_iterative(perm)\n",
    "\n",
    "def recursive_test():\n",
    "    inversion_number_recursive(perm)\n",
    "\n",
    "def binrecurs_test():\n",
    "    inversion_number_tworecurs(perm)\n",
    "    \n",
    "t_ite = ti.timeit(\"iterative_test()\", setup=\"from __main__ import iterative_test\", number = 10000)#timeit(函數名稱,執行次數)\n",
    "t_rec = ti.timeit(\"recursive_test()\", setup=\"from __main__ import recursive_test\", number = 10000)\n",
    "t_twr = ti.timeit(\"binrecurs_test()\", setup=\"from __main__ import binrecurs_test\", number = 10000)\n",
    "\n",
    "print(\"Iterative approach:\", t_ite)\n",
    "print(\"Recursive approach:\", t_rec)\n",
    "print(\"Binrecurs approach:\", t_twr)"
   ]
  },
  {
   "cell_type": "markdown",
   "metadata": {},
   "source": [
    "#### Please write down the observations you have after the comparisons:\n",
    "##### Inputs for five experiments\n",
    "1.<br>\n",
    "2.<br>\n",
    "3.<br>\n",
    "4.<br>\n",
    "5.<br>\n",
    "##### Results of comparisoms\n",
    "*******************************************************************************************************\n",
    "**Method 1**\n",
    "\n",
    "| time          | time for exp1  | time for exp2  | time for exp3  | time for exp4  | time for exp5  | \n",
    "| -----------   | -------------- | -------------- | -------------- | -------------- | -------------- |\n",
    "|Iteration      |                |                |                |                |                |\n",
    "|Recursion      |                |                |                |                |                |\n",
    "|Binrecurs      |                |                |                |                |                |\n",
    "\n",
    "**Method 2**\n",
    "\n",
    "| time          | time for exp1  | time for exp2  | time for exp3  | time for exp4  | time for exp5  | \n",
    "| -----------   | -------------- | -------------- | -------------- | -------------- | -------------- |\n",
    "|Iteration      |                |                |                |                |                |\n",
    "|Recursion      |                |                |                |                |                |\n",
    "|Binrecurs      |                |                |                |                |                |\n",
    "\n",
    "*******************************************************************************************************\n",
    "\n",
    "##### Observations\n"
   ]
  },
  {
   "cell_type": "code",
   "execution_count": null,
   "metadata": {},
   "outputs": [],
   "source": []
  }
 ],
 "metadata": {
  "kernelspec": {
   "display_name": "Python 3",
   "language": "python",
   "name": "python3"
  },
  "language_info": {
   "codemirror_mode": {
    "name": "ipython",
    "version": 3
   },
   "file_extension": ".py",
   "mimetype": "text/x-python",
   "name": "python",
   "nbconvert_exporter": "python",
   "pygments_lexer": "ipython3",
   "version": "3.8.8"
  }
 },
 "nbformat": 4,
 "nbformat_minor": 2
}
