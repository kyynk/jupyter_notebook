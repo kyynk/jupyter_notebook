{
 "cells": [
  {
   "cell_type": "markdown",
   "metadata": {},
   "source": [
    "## Programming part of Homework 2 (Data Structures, Fall 2022)\n",
    "\n",
    "## Name:楊榮鈞\n",
    "## Student ID Number:110590034\n",
    "\n",
    "### Programming problem 1\n",
    "Consider the problem of generating the series $S$ of numbers in Problem 3. Please use Python to implement the pseudo-code you provide for solving the problem. You should provide the iterative and recursive functions named with `S_iterative()` and `S_recursive()` respectively. Then, perform a comparison on these two versions by measuring the execution time. Besides, we also consider the number of recursive calls made in the recursive approaches. Hence, you need to\n",
    "1. implement the iterative approach as a function named as `S\\_iterative()`,\n",
    "2. provide the recursive version for the approach named as `S\\_recursive()`, and\n",
    "3. compare these two function with the same input in terms of running time and write what you have observed.\n",
    "\n",
    "We will use an in-built python library `timeit` and the module function `timeit.timeit()` for measuring the running time respective. In you observation, please indicate the ways to measure the time and this will be provided in the template.\n",
    "\n",
    "**Note:** For the programming problems, please do some experiments by yourself to observe the running time and the number of recursive calls. You need to report what you have observed from the experiments when you submit your homework."
   ]
  },
  {
   "cell_type": "code",
   "execution_count": 79,
   "metadata": {},
   "outputs": [
    {
     "name": "stdout",
     "output_type": "stream",
     "text": [
      "S_iterative:\n",
      "S_ 10 : 520\n"
     ]
    }
   ],
   "source": [
    "# the iterative approach\n",
    "def S_iterative(n):\n",
    "    ans = 0\n",
    "    for i in range(2,n+1):\n",
    "        ans += (2**(i-2) + 1)\n",
    "    return ans\n",
    "\n",
    "n=10 #9 8 7 6\n",
    "print (\"S_iterative:\")\n",
    "print (\"S_\", n , \":\", S_iterative(n))"
   ]
  },
  {
   "cell_type": "code",
   "execution_count": 80,
   "metadata": {
    "scrolled": true
   },
   "outputs": [
    {
     "name": "stdout",
     "output_type": "stream",
     "text": [
      "S_recursive:\n",
      "S_ 10 : 520 ; recursive calls:  10\n"
     ]
    }
   ],
   "source": [
    "# the recursive version\n",
    "def S_recursive(n):\n",
    "    global total\n",
    "    total += 1\n",
    "    if(n == 1):\n",
    "        return 0\n",
    "    return S_recursive(n-1)+2**(n-2)+1\n",
    "\n",
    "n=10 #9 8 7 6\n",
    "total=0\n",
    "print (\"S_recursive:\")\n",
    "print (\"S_\", n , \":\", S_recursive(n) , \"; recursive calls: \" , total ,) "
   ]
  },
  {
   "cell_type": "code",
   "execution_count": 81,
   "metadata": {
    "scrolled": false
   },
   "outputs": [
    {
     "name": "stdout",
     "output_type": "stream",
     "text": [
      "Running time comparison (Timer Method 1):\n",
      "Iterative on 10 = 520 ; Recursive on 10 = 520\n",
      "iterative approach: 0.0940013240033295\n",
      "Recursive approach: 0.14990777600178262\n",
      "Running time comparison (Timer Method 2):\n",
      "Iterative on 10 = 520 ; Recursive on 10 = 520\n",
      "iterative approach: 0.11050304200034589\n",
      "Recursive approach: 0.1320175279979594\n"
     ]
    }
   ],
   "source": [
    "#---------------------------------------------------------timeit\n",
    "import timeit as ti\n",
    "n=10 #9 8 7 6\n",
    "#---------------------------------------------------------Method 1\n",
    "print(\"Running time comparison (Timer Method 1):\")\n",
    "\n",
    "tstart = ti.default_timer() #timer start 計時器開啟\n",
    "for i in range(10000):\n",
    "    S_iterative(n)\n",
    "tend = ti.default_timer() #timer end計時器關閉\n",
    "t_ite=tend - tstart#開始與結束的差值\n",
    "\n",
    "tstart = ti.default_timer() #timer start 計時器開啟\n",
    "for i in range(10000):\n",
    "    S_recursive(n)\n",
    "tend = ti.default_timer() #timer end計時器關閉\n",
    "t_rec=tend - tstart#開始與結束的差值\n",
    "\n",
    "print(\"Iterative on\", n, \"=\", S_iterative(n), \"; Recursive on\", n, \"=\", S_recursive(n))\n",
    "print(\"iterative approach:\", t_ite)\n",
    "print(\"Recursive approach:\", t_rec)\n",
    "\n",
    "#---------------------------------------------------------Method 2\n",
    "print(\"Running time comparison (Timer Method 2):\")\n",
    "\n",
    "def iterative_test():\n",
    "    S_iterative(n)\n",
    "    \n",
    "def recursive_test():\n",
    "    S_recursive(n)\n",
    "    \n",
    "t_ite = ti.timeit(\"iterative_test()\", setup=\"from __main__ import iterative_test\", number = 10000)#timeit(函數名稱,執行次數)\n",
    "t_rec = ti.timeit(\"recursive_test()\", setup=\"from __main__ import recursive_test\", number = 10000)\n",
    "\n",
    "print(\"Iterative on\", n, \"=\", S_iterative(n), \"; Recursive on\", n, \"=\", S_recursive(n))\n",
    "print(\"iterative approach:\", t_ite)\n",
    "print(\"Recursive approach:\", t_rec)\n"
   ]
  },
  {
   "cell_type": "markdown",
   "metadata": {},
   "source": [
    "#### Please write down the observations you have after the comparisons:\n",
    "##### Inputs for five experiments\n",
    "1. n=10<br>\n",
    "2. n=9<br>\n",
    "3. n=8<br>\n",
    "4. n=7<br>\n",
    "5. n=6<br>\n",
    "##### Results of comparisoms\n",
    "*******************************************************************************************************\n",
    "**Method 1**\n",
    "\n",
    "| time          | time for exp1  | time for exp2  | time for exp3  | time for exp4  | time for exp5  | \n",
    "| -----------   | -------------- | -------------- | -------------- | -------------- | -------------- |\n",
    "|Iteration      | 0.0940013240033295|0.09011380599986296|0.3716725780031993|0.0573076000000583| 0.03787140399799682|\n",
    "|Recursion      |0.14990777600178262|0.09681983300106367|0.4007436630054144|0.0595119200006593|0.058616849993995856|\n",
    "\n",
    "**Method 2**\n",
    "\n",
    "| time          | time for exp1  | time for exp2  | time for exp3  | time for exp4  | time for exp5  | \n",
    "| -----------   | -------------- | -------------- | -------------- | -------------- | -------------- |\n",
    "|Iteration      |0.11050304200034589|  0.131996727999649|0.2528606179985218|0.07700317800481571|0.057082970000919886|\n",
    "|Recursion      | 0.1320175279979594|0.24371127899939893|0.4481550349955796|0.16332794199843192| 0.10042637299920898|\n",
    "\n",
    "*******************************************************************************************************\n",
    "\n",
    "##### Observations\n",
    "比較多是因為電腦跑的時間去影響到程式跑的時間。時間基本上是Recursion>Iteration。\n"
   ]
  },
  {
   "cell_type": "markdown",
   "metadata": {},
   "source": [
    "### Programming problem 2\n",
    "A ***permutation*** $P$ of size $n$ is a way of arranging the numbers between 1 and $n$, where each number must be used and can only be used once. For example, 5 4 1 2 3 is a permutation of 1 2 3 4 5 where $P(5)=1$, $P(4)=2$, $P(1)=3$, $P(2)=4$, and $P(3)=5$. An ***inversion*** in a permutation $P$ is a pair of numbers $i \\mbox{ and} j \\in\\{1, \\ldots, n\\}$ with $i<j$ such that the larger number appears to the left of the smaller one in the permutation, that is $P(j)<P(i)$. In the example, the pair of (3, 5) is an inversion in $P$. The ***inversion number*** of a permutation is the total number of inversions. Please write the Python fuctions mentioned in Problem 4 and compare the performance in term of running time. The things to be provided are as below.\n",
    "1. Implement the iterative approach using Python and name the function as `inversion_number_iterative()`.\n",
    "2. Please implement the linear recursive version you provide in Problem 4(c) with the function name of `inversion\\_number\\_recursive()`.\n",
    "3. Write the binary recursive version you provide in Problem 4(d) with the function named as `inversion\\_number\\_tworecurs()`.\n",
    "4. Compare these functions with the same input in terms of running time and write what you have observed."
   ]
  },
  {
   "cell_type": "code",
   "execution_count": 73,
   "metadata": {},
   "outputs": [
    {
     "name": "stdout",
     "output_type": "stream",
     "text": [
      "The inversion number of  [35, 11, 26, 13, 64, 21, 44, 6, 100, 57, 77, 82] is 19\n"
     ]
    }
   ],
   "source": [
    "# the iterative approach\n",
    "def inversion_number_iterative(P):\n",
    "    sum = 0\n",
    "    for i in range(len(P)-1):\n",
    "        for j in range(i+1,len(P)):\n",
    "            if P[i]>P[j]:\n",
    "                sum += 1\n",
    "    return sum\n",
    "\n",
    "#perm=[33, 10, 25, 16, 66, 20]\n",
    "#perm=[5, 4, 2, 1, 3]\n",
    "#perm=[4, 6, 2, 5, 1, 3]\n",
    "#perm = [12, 11, 13, 5, 6, 7]\n",
    "perm=[35, 11, 26, 13, 64, 21, 44, 6, 100, 57, 77, 82]\n",
    "print('The inversion number of ', perm, 'is', inversion_number_iterative(perm))"
   ]
  },
  {
   "cell_type": "code",
   "execution_count": 74,
   "metadata": {},
   "outputs": [
    {
     "name": "stdout",
     "output_type": "stream",
     "text": [
      "The inversion number of  [35, 11, 26, 13, 64, 21, 44, 6, 100, 57, 77, 82] is 19\n"
     ]
    }
   ],
   "source": [
    "# the linear recursive version\n",
    "def inversion_number_recursive(P,i=0,j=1):\n",
    "    if i == len(P)-1:\n",
    "        return 0\n",
    "    sum = 0\n",
    "    #print(P[i],P[j])\n",
    "    if P[i]>P[j]:\n",
    "        sum += 1\n",
    "    if j == len(P)-1:\n",
    "        return sum + inversion_number_recursive(P,i+1,i+2)\n",
    "    return sum + inversion_number_recursive(P,i,j+1)\n",
    "\n",
    "#perm=[33, 10, 25, 16, 66, 20]\n",
    "#perm=[5, 4, 2, 1, 3]\n",
    "#perm=[4, 6, 2, 5, 1, 3]\n",
    "#perm = [12, 11, 13, 5, 6, 7]\n",
    "perm=[35, 11, 26, 13, 64, 21, 44, 6, 100, 57, 77, 82]\n",
    "print('The inversion number of ', perm, 'is', inversion_number_recursive(perm))"
   ]
  },
  {
   "cell_type": "code",
   "execution_count": 75,
   "metadata": {},
   "outputs": [
    {
     "name": "stdout",
     "output_type": "stream",
     "text": [
      "The inversion number of  [35, 11, 26, 13, 64, 21, 44, 6, 100, 57, 77, 82] is 19\n"
     ]
    }
   ],
   "source": [
    "# the binary recursive version\n",
    "def inversion_number_tworecurs(P,L=0,R=0,index=-1,compare=0):\n",
    "    if(index==-1):\n",
    "        sum=0\n",
    "        for i in range(len(P)):\n",
    "            #print(i,sum)\n",
    "            sum+=inversion_number_tworecurs(P,0,len(P),i,P[i])\n",
    "        return sum\n",
    "    if (len(P)==1):\n",
    "        if index < L and compare > P[0] :\n",
    "            #print(1,L,R)\n",
    "            return 1 \n",
    "        else:\n",
    "            #print(0,L,R)\n",
    "            return 0\n",
    "    mid=len(P)//2\n",
    "    LP=P[:mid]\n",
    "    RP=P[mid:]\n",
    "    #print(LP,RP)\n",
    "    return inversion_number_tworecurs(LP,L,L+mid,index,compare)+inversion_number_tworecurs(RP,L+mid,R,index,compare)\n",
    "\n",
    "#perm=[33, 10, 25, 16, 66, 20]\n",
    "#perm=[5, 4, 2, 1, 3]\n",
    "#perm=[4, 6, 2, 5, 1, 3]\n",
    "#perm = [12, 11, 13, 5, 6, 7]\n",
    "perm=[35, 11, 26, 13, 64, 21, 44, 6, 100, 57, 77, 82]\n",
    "print('The inversion number of ', perm, 'is', inversion_number_tworecurs(perm))"
   ]
  },
  {
   "cell_type": "code",
   "execution_count": 78,
   "metadata": {
    "scrolled": false
   },
   "outputs": [
    {
     "name": "stdout",
     "output_type": "stream",
     "text": [
      "Running time comparison (Timer Method 1):\n",
      "Permutation: [35, 11, 26, 13, 64, 21, 44, 6, 100, 57, 77, 82]\n",
      "The inversion number of is 19 (iterat)\n",
      "The inversion number of is 19 (linear)\n",
      "The inversion number of is 19 (binary)\n",
      "Iterative approach: 0.28410138299659593\n",
      "Recursive approach: 0.9908413750017644\n",
      "Binrecurs approach: 3.5183197950027534\n",
      "Running time comparison (Timer Method 2):\n",
      "Iterative approach: 0.24913144900347106\n",
      "Recursive approach: 0.7986435179991531\n",
      "Binrecurs approach: 3.4217415819948656\n"
     ]
    }
   ],
   "source": [
    "#---------------------------------------------------------timeit\n",
    "#import timeit as ti\n",
    "\n",
    "#perm=[33, 10, 25, 16, 66, 20]\n",
    "#perm=[5, 4, 2, 1, 3]\n",
    "#perm=[4, 6, 2, 5, 1, 3]\n",
    "#perm = [12, 11, 13, 5, 6, 7]\n",
    "perm=[35, 11, 26, 13, 64, 21, 44, 6, 100, 57, 77, 82]\n",
    "\n",
    "#---------------------------------------------------------Method 1\n",
    "print(\"Running time comparison (Timer Method 1):\")\n",
    "\n",
    "tstart = ti.default_timer() #timer start 計時器開啟\n",
    "\n",
    "for i in range(10000):\n",
    "    inversion_number_iterative(perm)\n",
    "tend = ti.default_timer() #timer end計時器關閉\n",
    "t_ite=tend - tstart#開始與結束的差值\n",
    "\n",
    "tstart = ti.default_timer() #timer start 計時器開啟\n",
    "for i in range(10000):\n",
    "    inversion_number_recursive(perm)\n",
    "tend = ti.default_timer() #timer end計時器關閉\n",
    "t_rec=tend - tstart#開始與結束的差值\n",
    "\n",
    "tstart = ti.default_timer() #timer start 計時器開啟\n",
    "for i in range(10000):\n",
    "    inversion_number_tworecurs(perm)\n",
    "tend = ti.default_timer() #timer end計時器關閉\n",
    "t_twr=tend - tstart#開始與結束的差值\n",
    "\n",
    "print(\"Permutation:\", perm)\n",
    "print('The inversion number of is', inversion_number_iterative(perm),'(iterat)')\n",
    "print('The inversion number of is', inversion_number_recursive(perm),'(linear)')\n",
    "print('The inversion number of is', inversion_number_tworecurs(perm),'(binary)')\n",
    "\n",
    "print(\"Iterative approach:\", t_ite)\n",
    "print(\"Recursive approach:\", t_rec)\n",
    "print(\"Binrecurs approach:\", t_twr)\n",
    "\n",
    "#---------------------------------------------------------Method 2\n",
    "print(\"Running time comparison (Timer Method 2):\")\n",
    "\n",
    "def iterative_test():\n",
    "    inversion_number_iterative(perm)\n",
    "\n",
    "def recursive_test():\n",
    "    inversion_number_recursive(perm)\n",
    "\n",
    "def binrecurs_test():\n",
    "    inversion_number_tworecurs(perm)\n",
    "    \n",
    "t_ite = ti.timeit(\"iterative_test()\", setup=\"from __main__ import iterative_test\", number = 10000)#timeit(函數名稱,執行次數)\n",
    "t_rec = ti.timeit(\"recursive_test()\", setup=\"from __main__ import recursive_test\", number = 10000)\n",
    "t_twr = ti.timeit(\"binrecurs_test()\", setup=\"from __main__ import binrecurs_test\", number = 10000)\n",
    "\n",
    "print(\"Iterative approach:\", t_ite)\n",
    "print(\"Recursive approach:\", t_rec)\n",
    "print(\"Binrecurs approach:\", t_twr)"
   ]
  },
  {
   "cell_type": "markdown",
   "metadata": {},
   "source": [
    "#### Please write down the observations you have after the comparisons:\n",
    "##### Inputs for five experiments\n",
    "1. Permutation: [35, 11, 26, 13, 64, 21, 44, 6, 100, 57, 77, 82]<br>\n",
    "2. Permutation: [12, 11, 13, 5, 6, 7]<br>\n",
    "3. Permutation: [4, 6, 2, 5, 1, 3]<br>\n",
    "4. Permutation: [5, 4, 2, 1, 3]<br>\n",
    "5. Permutation: [33, 10, 25, 16, 66, 20]<br>\n",
    "##### Results of comparisoms\n",
    "*******************************************************************************************************\n",
    "**Method 1**\n",
    "\n",
    "| time          | time for exp1  | time for exp2  | time for exp3  | time for exp4  | time for exp5  | \n",
    "| -----------   | -------------- | -------------- | -------------- | -------------- | -------------- |\n",
    "|Iteration      |0.28410138299659593|0.062366109996219166|0.060255169999436475|0.06697809899924323|0.06185451000055764|\n",
    "|Recursion      | 0.9908413750017644| 0.14314776600076584| 0.16815966300055152| 0.0919805939993239| 0.2726162549952278|\n",
    "|Binrecurs      | 3.5183197950027534|   0.864903305999178|  0.8667619650004781|  0.504337325997767|  1.407242227003735|\n",
    "\n",
    "**Method 2**\n",
    "\n",
    "| time          | time for exp1  | time for exp2  | time for exp3  | time for exp4  | time for exp5  | \n",
    "| -----------   | -------------- | -------------- | -------------- | -------------- | -------------- |\n",
    "|Iteration      |0.24913144900347106|0.09307783500116784|0.14145370600454044|0.08092831699468661|0.2774314339985722|\n",
    "|Recursion      | 0.7986435179991531|0.21614443400176242| 0.1573652349979966| 0.1308882680023089|0.6210131869956967|\n",
    "|Binrecurs      | 3.4217415819948656| 0.8168403349991422| 0.8762677049962804| 0.5563593080005376|2.4490582529979292|\n",
    "\n",
    "*******************************************************************************************************\n",
    "\n",
    "##### Observations\n",
    "比較多是因為電腦跑的時間去影響到程式跑的時間。時間基本上是Binrecurs>Recursion>Iteration。"
   ]
  },
  {
   "cell_type": "code",
   "execution_count": null,
   "metadata": {},
   "outputs": [],
   "source": []
  }
 ],
 "metadata": {
  "kernelspec": {
   "display_name": "Python 3",
   "language": "python",
   "name": "python3"
  },
  "language_info": {
   "codemirror_mode": {
    "name": "ipython",
    "version": 3
   },
   "file_extension": ".py",
   "mimetype": "text/x-python",
   "name": "python",
   "nbconvert_exporter": "python",
   "pygments_lexer": "ipython3",
   "version": "3.8.8"
  }
 },
 "nbformat": 4,
 "nbformat_minor": 2
}
