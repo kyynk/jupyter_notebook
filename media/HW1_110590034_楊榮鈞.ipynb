{
 "cells": [
  {
   "cell_type": "markdown",
   "id": "hispanic-shoulder",
   "metadata": {
    "id": "hispanic-shoulder"
   },
   "source": [
    "# [多媒體技術與應用] Homework 1<br>\n",
    "\n",
    "<font size = 4>\n",
    "    請用.ipynb交作業，檔名用HW1_學號_名稱.ipynb，例如: HW1_0123456_黃大明.ipynb"
   ]
  },
  {
   "cell_type": "markdown",
   "id": "blessed-banking",
   "metadata": {
    "id": "blessed-banking"
   },
   "source": [
    "## 1.\tGiven a dataset with (x,y)= {(1,4), (2,5), (5,10), (6,12), (7,15), (0, 2), (4, 6)}，請手算x和 y之間的相關係數 (寫下計算步驟)。<br>\n",
    "<font size = 4>\n",
    "    如果不會用markdown打方程式，請「手寫」好後貼圖到ipynb。\n",
    "</font>"
   ]
  },
  {
   "cell_type": "markdown",
   "id": "offensive-assist",
   "metadata": {
    "id": "offensive-assist"
   },
   "source": [
    "ANS1: write here <br><br>\n",
    "$$\n",
    "\\begin{align}\n",
    "\\bar x & = \\frac{1+2+5+6+7+0+4}{7} = \\frac{25}{7} \\approx 3.57\\\\\n",
    "\\bar y & = \\frac{4+5+10+12+15+2+6}{7} = \\frac{54}{7} \\approx 7.71\\\\\n",
    "S_x & = \\sqrt\\frac{(1-3.57)^2+(2-3.57)^2+(5-3.57)^2+(6-3.57)^2+(7-3.57)^2+(0-3.57)^2+(4-3.57)^2}{7-1} = 2.6367 \\approx 2.64\\\\\n",
    "S_y & = \\sqrt\\frac{(4-7.71)^2+(5-7.71)^2+(10-7.71)^2+(12-7.71)^2+(15-7.71)^2+(2-7.71)^2+(6-7.71)^2}{7-1} = 4.7157 \\approx 4.72\\\\\n",
    "(z_x)_i(z_y)_i & = \\frac{x_i-\\bar x}{S_x}\\cdot\\frac{y_i-\\bar y}{S_y}\\\\\n",
    "(z_x)_1(z_y)_1 & = \\frac{1-3.57}{2.64}\\cdot\\frac{4-7.71}{4.72} = 0.765 \\approx 0.77\\\\\n",
    "(z_x)_2(z_y)_2 & = \\frac{2-3.57}{2.64}\\cdot\\frac{5-7.71}{4.72} = 0.34\\\\\n",
    "(z_x)_3(z_y)_3 & = \\frac{5-3.57}{2.64}\\cdot\\frac{10-7.71}{4.72} = 0.26\\\\\n",
    "(z_x)_4(z_y)_4 & = \\frac{6-3.57}{2.64}\\cdot\\frac{12-7.71}{4.72} = 0.8365 \\approx 0.84\\\\\n",
    "(z_x)_5(z_y)_5 & = \\frac{7-3.57}{2.64}\\cdot\\frac{15-7.71}{4.72} = 2.0066 \\approx 2.01\\\\\n",
    "(z_x)_6(z_y)_6 & = \\frac{0-3.57}{2.64}\\cdot\\frac{2-7.71}{4.72} = 1.6359 \\approx 1.64\\\\\n",
    "(z_x)_7(z_y)_7 & = \\frac{4-3.57}{2.64}\\cdot\\frac{6-7.71}{4.72} = -0.0590 \\approx -0.06\\\\\n",
    "\\sum_{i=1}^{7}(z_x)_i(z_y)_i & = 0.77 + 0.34 + 0.26 + 0.84 + 2.01 + 1.64 + (-0.06) = 5.8\\\\\n",
    "r & = \\frac{5.8}{7-1} = 0.9666 \\approx 0.967\n",
    "\\end{align}\n",
    "$$"
   ]
  },
  {
   "cell_type": "markdown",
   "id": "explicit-corps",
   "metadata": {
    "id": "explicit-corps"
   },
   "source": [
    "## 2.\t利用相關係數公式撰寫python程式計算第二題的問題 (可用numpy做基本的矩陣運算，請不要直接用API得到答案)。"
   ]
  },
  {
   "cell_type": "code",
   "execution_count": 1,
   "id": "extended-following",
   "metadata": {
    "id": "extended-following"
   },
   "outputs": [],
   "source": [
    "# ANS2\n",
    "import numpy as np\n",
    "def find_coefficient(x, y):\n",
    "  x_mean = x.mean()\n",
    "  y_mean = y.mean()\n",
    "  x_std = x.std(ddof=1) # ddof=0 population standard deviation, denominator is (n)\n",
    "  y_std = y.std(ddof=1) # ddof=1 sample standard deviation, denominator is (n-1)\n",
    "  sum_zx_zy = 0.0\n",
    "  for i in range(len(x)):\n",
    "    sum_zx_zy += (((x[i]-x_mean)/x_std)*((y[i]-y_mean)/y_std))\n",
    "  r = sum_zx_zy / (len(x)-1)\n",
    "  return r"
   ]
  },
  {
   "cell_type": "markdown",
   "id": "social-female",
   "metadata": {
    "id": "social-female"
   },
   "source": [
    "## 3.\t利用2撰寫的程式計算下列程式碼出現的x和y的相關係數值。"
   ]
  },
  {
   "cell_type": "code",
   "execution_count": 2,
   "id": "rocky-samoa",
   "metadata": {
    "colab": {
     "base_uri": "https://localhost:8080/"
    },
    "executionInfo": {
     "elapsed": 26,
     "status": "ok",
     "timestamp": 1681280582515,
     "user": {
      "displayName": "北科大-楊榮鈞",
      "userId": "11942954482386806578"
     },
     "user_tz": -480
    },
    "id": "rocky-samoa",
    "outputId": "7217a7f7-eaba-4740-95b3-9cdedb250a02"
   },
   "outputs": [
    {
     "name": "stdout",
     "output_type": "stream",
     "text": [
      "data 0: x=0.32, y=-0.08\n",
      "data 1: x=-2.02, y=-5.70\n",
      "data 2: x=-0.31, y=-11.53\n",
      "data 3: x=0.83, y=0.19\n"
     ]
    }
   ],
   "source": [
    "import numpy as np\n",
    "np.random.seed(1)\n",
    "n=100\n",
    "noise = (np.random.rand(n)-0.5)*2\n",
    "x = np.random.normal(0,1,n)\n",
    "y = 5 * x  +  10 * noise\n",
    "for i, (tmp_x, tmp_y) in enumerate(zip(x,y)):\n",
    "    print('data {}: x={:.2f}, y={:.2f}'.format(i, tmp_x,tmp_y))\n",
    "    if i >=3:\n",
    "        break"
   ]
  },
  {
   "cell_type": "code",
   "execution_count": 3,
   "id": "robust-ozone",
   "metadata": {
    "colab": {
     "base_uri": "https://localhost:8080/"
    },
    "executionInfo": {
     "elapsed": 18,
     "status": "ok",
     "timestamp": 1681280582516,
     "user": {
      "displayName": "北科大-楊榮鈞",
      "userId": "11942954482386806578"
     },
     "user_tz": -480
    },
    "id": "robust-ozone",
    "outputId": "24f8beee-8886-4158-c6fa-47d9dd8b9850"
   },
   "outputs": [
    {
     "name": "stdout",
     "output_type": "stream",
     "text": [
      "0.490669448054094\n"
     ]
    }
   ],
   "source": [
    "# ANS3\n",
    "np_x = np.array(x[0:4])\n",
    "np_y = np.array(y[0:4])\n",
    "print(find_coefficient(np_x, np_y))"
   ]
  },
  {
   "cell_type": "markdown",
   "id": "domestic-application",
   "metadata": {
    "id": "domestic-application"
   },
   "source": [
    "## 4.\t多元回歸(Multiple regression)\n",
    "\n",
    "\n",
    "$$\n",
    "({\\bf{x}}_i,y_i) , {\\bf{x}}_i = \\begin{bmatrix} 1 \\\\ x_{i1} \\\\ \\vdots \\\\ x_{id}\\\\ \\end{bmatrix} \\in R^{d+1}, \\forall i=1,2,...,n \n",
    "$$\n",
    "\n",
    "$$\n",
    "{\\bf{Y}} = \\begin{bmatrix} y_1 \\\\ y_2 \\\\ \\vdots \\\\ y_n\\\\ \\end{bmatrix}, \n",
    "{\\bf{\\beta}} = \\begin{bmatrix} \\beta_0 \\\\ \\beta_1 \\\\ \\vdots \\\\ \\beta_n\\\\ \\end{bmatrix},\n",
    "{\\bf{X}} = \\begin{bmatrix} \\bf{X}_1^T \\\\ \\bf{X}_2^T  \\\\ \\vdots \\\\ \\bf{X}_n^T \\\\ \\end{bmatrix}\n",
    " = \\begin{bmatrix} 1&x_{11}&...&x_{1d} \\\\ \\ 1&x_{21}&...&x_{2d}  \\\\ \\vdots \\\\ \\ 1&x_{n1}&...&x_{nd} \\\\ \\end{bmatrix} \n",
    "$$\n",
    "\n",
    "**Regression:** $$\\bf{Y}=  {\\bf{X}}{\\bf{\\beta}}$$\n",
    "\n",
    "$$\n",
    "loss({\\bf{\\beta}})=(\\bf{Y}-\\hat{\\bf{Y}})^T(\\bf{Y}-\\hat{\\bf{Y}})\n",
    "$$\n",
    "\n",
    "**找${\\bf{\\beta}}$的closed-form solution**\n",
    "\n"
   ]
  },
  {
   "cell_type": "markdown",
   "id": "artificial-living",
   "metadata": {
    "id": "artificial-living"
   },
   "source": [
    "$$\n",
    "\\begin{align}\n",
    "loss({\\bf{\\beta}}) & = (\\bf{Y} - \\hat{\\bf{Y}})^T(\\bf{Y} - \\hat{\\bf{Y}})\\\\\n",
    " & = (\\bf{Y} - \\hat{\\bf{\\beta}}{^T} \\bf{X})^T(\\bf{Y} - \\hat{\\bf{\\beta}}^T \\bf{X})\\\\\n",
    " & = \\bf{Y}^T \\bf{Y} + \\bf{X}^T \\hat{\\bf{\\beta}} \\hat{\\bf{\\beta}}{^T} \\bf{X} - 2 \\bf{X}^T \\hat{\\bf{\\beta}} \\bf{Y}\n",
    "\\end{align}\n",
    "$$\n",
    "\n",
    "<br>\n",
    "\n",
    "$$\n",
    "\\begin{align}\n",
    "\\frac{\\partial loss({\\bf{\\beta}})}{\\partial \\bf{\\beta}} & = \\frac{\\partial (\\bf{Y}^T \\bf{Y} + \\bf{X}^T \\hat{\\bf{\\beta}} \\hat{\\bf{\\beta}}{^T} \\bf{X} - 2 \\bf{X}^T \\hat{\\bf{\\beta}} \\bf{Y})}{\\partial \\bf{\\beta}} = 0\\\\\n",
    " & \\implies 2 \\bf{X}^T \\bf{X} \\hat{\\bf{\\beta}} - 2\\bf{X}^T \\bf{Y} = 0\\\\\n",
    " & \\implies \\bf{X}^T \\bf{X} \\hat{\\bf{\\beta}} = \\bf{X}^T \\bf{Y}\\\\\n",
    " & \\implies \\hat{\\bf{\\beta}} = (\\bf{X}{^T} \\bf{X})^{-1} \\bf{X}{^T} \\bf{Y} \n",
    "\\end{align}\n",
    "$$"
   ]
  },
  {
   "cell_type": "markdown",
   "id": "significant-entity",
   "metadata": {
    "id": "significant-entity"
   },
   "source": [
    "## 5. 依據第4題推出的公式做python程式撰寫 ，寫一個Multiple regression\n",
    "Data在HW1-RegressionExample.txt，第1欄是dependent variable, 第2~5欄是independent variable。"
   ]
  },
  {
   "cell_type": "code",
   "execution_count": 4,
   "id": "convenient-manitoba",
   "metadata": {
    "id": "convenient-manitoba",
    "outputId": "aea947e8-fd2c-47b4-dad7-1eacc0928690"
   },
   "outputs": [
    {
     "name": "stdout",
     "output_type": "stream",
     "text": [
      "[ 1.00222561e+05 -6.89522723e+02  5.49412800e-02 -1.30136687e+00\n",
      "  1.52456367e+02]\n"
     ]
    }
   ],
   "source": [
    "import numpy as np\n",
    "\n",
    "def beta_closed_form_sol(x, y):\n",
    "  beta = np.matmul(np.matmul(np.linalg.inv(np.matmul(np.transpose(x), x)), np.transpose(x)), y)\n",
    "  return beta\n",
    "\n",
    "filename = 'HW1-RegressionExample.txt'\n",
    "dep = [] # dependent\n",
    "ind = [] # independent\n",
    "with open(filename, 'r') as f:\n",
    "  for line in f.readlines():\n",
    "    line = line.split(\" \")\n",
    "    if '\\n' in line[4]:\n",
    "      line[4] = line[4][:-1]\n",
    "    for i in range(len(line)):\n",
    "      line[i] = float(line[i])\n",
    "    line.insert(1, 1.0)\n",
    "    dep.append(line[0])\n",
    "    ind.append(line[1:])\n",
    "\n",
    "np_dep = np.array(dep)\n",
    "np_ind = np.array(ind)\n",
    "print(beta_closed_form_sol(np_ind, np_dep))\n",
    "# also can use np.linalg.lstsq(np_ind, np_dep, rcond=None)[0]"
   ]
  }
 ],
 "metadata": {
  "colab": {
   "provenance": []
  },
  "kernelspec": {
   "display_name": "Python 3",
   "language": "python",
   "name": "python3"
  },
  "language_info": {
   "codemirror_mode": {
    "name": "ipython",
    "version": 3
   },
   "file_extension": ".py",
   "mimetype": "text/x-python",
   "name": "python",
   "nbconvert_exporter": "python",
   "pygments_lexer": "ipython3",
   "version": "3.8.8"
  }
 },
 "nbformat": 4,
 "nbformat_minor": 5
}
