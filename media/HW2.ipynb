{
 "cells": [
  {
   "cell_type": "markdown",
   "id": "08a68201",
   "metadata": {},
   "source": [
    "# [多媒體技術與應用] Homework 2<br>\n",
    "\n",
    "<font size = 4>\n",
    "    請用.ipynb交作業，檔名用HW2_學號_名稱.ipynb，例如: HW2_0123456_黃大明.ipynb"
   ]
  },
  {
   "cell_type": "markdown",
   "id": "64fc9820",
   "metadata": {},
   "source": [
    "## Q1 (50%)\n",
    "$$f(x)=x_1^4 + x_2^4+ x_3^3 + x_1^2 + 10x_2^2 - 5x_3^2 + x_1 + x_2 -10x_3+10$$\n",
    "\n",
    "$$\n",
    "x^* = \\min_x{f(x)}\n",
    "$$\n",
    "\n",
    "請求$x^*$\n",
    "\n",
    "1 寫出梯度方程式 (手解) <br>\n",
    "    \n",
    "2 寫出梯度下降法的PYTHON程式: <br>\n",
    "    利用梯度下降法 ，當初始值為 \n",
    "   $ \\begin{bmatrix}  x_1\\\\ x_2\\\\x_3\\\\ \\end{bmatrix} = \\begin{bmatrix}  0\\\\ 0\\\\ 0\\\\ \\end{bmatrix}$<br>\n",
    "    學習率為 0.01求解，更新次數100次。<br>\n",
    "    找到$x^*$ 和算出$f(x^*)$\n"
   ]
  },
  {
   "cell_type": "code",
   "execution_count": null,
   "id": "cdc7a5cd",
   "metadata": {},
   "outputs": [],
   "source": []
  },
  {
   "cell_type": "markdown",
   "id": "16becc62",
   "metadata": {},
   "source": [
    "## Q2 (50%)\n",
    "<font size=3>\n",
    "  \n",
    "讀取「data_weight_multlfeatutes.xlsx」<br>\n",
    "利用<font color=red>'身高', '體重'</font>當作自變數(X)<br>\n",
    "<font color=red>'性別'</font>作為依變數(Y)。<br>\n",
    "        \n",
    "寫一個簡單的羅吉斯回歸(logistic regression)分類(訓練X，然後評估訓練後X的正確率)<br>\n",
    "\n",
    "梯度下降法求解 $\\beta$ <br>\n",
    "1. 初始值都從0開始，學習率0.0001，學習次數100次<br>\n",
    "    \n",
    "2. 初始值都從0開始，學習率0.001，學習次數100次<br>\n",
    "    \n",
    "3. 初始值都從10開始，學習率0.0001，學習次數100次<br>\n",
    "       \n",
    "4. 初始值都從10開始，學習率0.001，學習次數100次<br>\n",
    "    \n",
    "在每個實驗中都要劃出loss的變化，並print最後解的羅吉斯回歸的$\\beta$，和算資料(X)判斷的正確率。\n",
    "\n",
    "5. 說明一下你看到的現象。"
   ]
  },
  {
   "cell_type": "code",
   "execution_count": null,
   "id": "dbdb116d",
   "metadata": {},
   "outputs": [],
   "source": []
  },
  {
   "cell_type": "code",
   "execution_count": null,
   "id": "5bdeb050",
   "metadata": {},
   "outputs": [],
   "source": []
  },
  {
   "cell_type": "code",
   "execution_count": null,
   "id": "98866300",
   "metadata": {},
   "outputs": [],
   "source": []
  }
 ],
 "metadata": {
  "kernelspec": {
   "display_name": "Python 3 (ipykernel)",
   "language": "python",
   "name": "python3"
  },
  "language_info": {
   "codemirror_mode": {
    "name": "ipython",
    "version": 3
   },
   "file_extension": ".py",
   "mimetype": "text/x-python",
   "name": "python",
   "nbconvert_exporter": "python",
   "pygments_lexer": "ipython3",
   "version": "3.9.13"
  }
 },
 "nbformat": 4,
 "nbformat_minor": 5
}
